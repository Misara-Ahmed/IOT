{
 "cells": [
  {
   "cell_type": "code",
   "execution_count": 1,
   "id": "8173607a",
   "metadata": {},
   "outputs": [],
   "source": [
    "import pandas as pd\n",
    "import wave\n",
    "import numpy as np\n",
    "from scipy.io.wavfile import write\n",
    "import librosa  # for audio processing"
   ]
  },
  {
   "cell_type": "code",
   "execution_count": 2,
   "id": "abae14c4",
   "metadata": {},
   "outputs": [],
   "source": [
    "excel_file_path1 = \"C:/Users/Misara/OneDrive/Desktop/Finall.xlsx\"\n",
    "noise_0 = pd.read_excel(excel_file_path1)\n",
    "\n",
    "excel_file_path2 = \"C:/Users/Misara/OneDrive/Desktop/echo-ha/clean_10.xlsx\"\n",
    "clean_0 = pd.read_excel(excel_file_path2)"
   ]
  },
  {
   "cell_type": "code",
   "execution_count": 3,
   "id": "b0081fe0",
   "metadata": {},
   "outputs": [
    {
     "name": "stdout",
     "output_type": "stream",
     "text": [
      "              0\n",
      "0     -0.004980\n",
      "1     -0.002980\n",
      "2     -0.000982\n",
      "3     -0.005985\n",
      "4     -0.011987\n",
      "...         ...\n",
      "20037  3.748820\n",
      "20038  1.350562\n",
      "20039 -0.588774\n",
      "20040 -2.408388\n",
      "20041 -3.831777\n",
      "\n",
      "[20042 rows x 1 columns]\n"
     ]
    }
   ],
   "source": [
    "noise_0_list= noise_0[0].tolist()\n",
    "# clean_0_list= clean_0[7].tolist()\n",
    "print(noise_0)\n",
    "#print(clean_0)\n",
    "noise_0_list *= 1000"
   ]
  },
  {
   "cell_type": "code",
   "execution_count": null,
   "id": "20acee67",
   "metadata": {},
   "outputs": [],
   "source": [
    "print(noise_0_list)"
   ]
  },
  {
   "cell_type": "code",
   "execution_count": null,
   "id": "b0866e0c",
   "metadata": {},
   "outputs": [],
   "source": [
    "\n",
    "# Convert the list to a numpy array\n",
    "signal_noise = np.array(noise_0_list)\n",
    "signal_clean=np.array(clean_0_list)\n",
    "\n",
    "# Define the output .wav file\n",
    "output_file1 = \"output_noise.wav\"\n",
    "output_file2 = \"output_clean.wav\"\n"
   ]
  },
  {
   "cell_type": "code",
   "execution_count": null,
   "id": "eef15108",
   "metadata": {},
   "outputs": [],
   "source": [
    "# Scale the values to the appropriate range for 16-bit PCM audio\n",
    "scaled_signal_noise = (signal_noise ).astype(np.int16)\n",
    "\n",
    "# Write the .wav file\n",
    "write(output_file1, 11025, scaled_signal_noise)"
   ]
  },
  {
   "cell_type": "code",
   "execution_count": null,
   "id": "f6e68b5a",
   "metadata": {},
   "outputs": [],
   "source": [
    "# Scale the values to the appropriate range for 16-bit PCM audio\n",
    "scaled_signal_clean = (signal_clean ).astype(np.int16)\n",
    "\n",
    "# Write the .wav file\n",
    "write(output_file2, 11025, scaled_signal_clean)"
   ]
  },
  {
   "cell_type": "code",
   "execution_count": null,
   "id": "80c9e395",
   "metadata": {},
   "outputs": [
    {
     "name": "stdout",
     "output_type": "stream",
     "text": [
      "[ -139   -46    16 ...  -863 -2635 -4053]\n",
      "[ -3684  -1214    841 ...  -8512  -9567 -10147]\n"
     ]
    }
   ],
   "source": [
    "#########################################################\n",
    "\n",
    "import pandas as pd\n",
    "import numpy as np\n",
    "from scipy.io.wavfile import write\n",
    "import soundfile as sf\n",
    "\n",
    "def remove_echo(noise_signal, clean_signal):\n",
    "    # Adjust the length of the signals\n",
    "    min_length = min(len(noise_signal), len(clean_signal))\n",
    "    noise_signal = noise_signal[:min_length]\n",
    "    clean_signal = clean_signal[:min_length]\n",
    "    print(noise_signal)\n",
    "\n",
    "    # Choose an appropriate delay based on the room acoustics (you may need to adjust this)\n",
    "    delay_samples = 0\n",
    "\n",
    "    # Apply a simple delay-and-subtract algorithm for echo cancellation\n",
    "    output_signal = clean_signal - np.roll(noise_signal, delay_samples)\n",
    "    # output_signal = clean_signal - noise_signal\n",
    "    print(output_signal)\n",
    "\n",
    "    return output_signal\n",
    "\n",
    "excel_file_path1 = \"C:/Users/Misara/OneDrive/Desktop/echo-ha/noise_100.xlsx\"\n",
    "noise_0 = pd.read_excel(excel_file_path1)\n",
    "\n",
    "excel_file_path2 = \"C:/Users/Misara/OneDrive/Desktop/echo-ha/clean_100.xlsx\"\n",
    "clean_0 = pd.read_excel(excel_file_path2)\n",
    "\n",
    "noise_0_list = noise_0[0].tolist()\n",
    "clean_0_list = clean_0[0].tolist()\n",
    "\n",
    "# Convert the list to a numpy array\n",
    "signal_noise = np.array(noise_0_list)\n",
    "signal_clean = np.array(clean_0_list)\n",
    "\n",
    "# Remove echo from the audio\n",
    "output_signal = remove_echo(signal_noise, signal_clean)\n",
    "\n",
    "# Define the output .wav file\n",
    "output_file = \"output_clean_without.wav\"\n",
    "\n",
    "# Write the .wav file using soundfile library\n",
    "sf.write(output_file, output_signal, 11025, 'PCM_16')\n",
    "\n",
    "# If you don't have the soundfile library, you can use scipy.io.wavfile.write as before\n",
    "write(output_file, 11025, (output_signal).astype(np.int16))"
   ]
  }
 ],
 "metadata": {
  "kernelspec": {
   "display_name": "Python 3 (ipykernel)",
   "language": "python",
   "name": "python3"
  },
  "language_info": {
   "codemirror_mode": {
    "name": "ipython",
    "version": 3
   },
   "file_extension": ".py",
   "mimetype": "text/x-python",
   "name": "python",
   "nbconvert_exporter": "python",
   "pygments_lexer": "ipython3",
   "version": "3.11.7"
  }
 },
 "nbformat": 4,
 "nbformat_minor": 5
}
