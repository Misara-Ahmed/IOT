{
 "cells": [
  {
   "cell_type": "code",
   "execution_count": 155,
   "id": "8173607a",
   "metadata": {},
   "outputs": [],
   "source": [
    "import pandas as pd\n",
    "import wave\n",
    "import numpy as np\n",
    "from scipy.io.wavfile import write\n",
    "import librosa  # for audio processing\n",
    "\n"
   ]
  },
  {
   "cell_type": "code",
   "execution_count": 156,
   "id": "abae14c4",
   "metadata": {},
   "outputs": [],
   "source": [
    "excel_file_path1 = \"D:/Sho4l/IOT/echo-ha/noise_100.xlsx\"\n",
    "noise_0 = pd.read_excel(excel_file_path1)\n",
    "\n",
    "excel_file_path2 = \"D:/Sho4l/IOT/echo-ha/clean_100.xlsx\"\n",
    "clean_0 = pd.read_excel(excel_file_path2)"
   ]
  },
  {
   "cell_type": "code",
   "execution_count": 157,
   "id": "b0081fe0",
   "metadata": {},
   "outputs": [],
   "source": [
    "noise_0_list= noise_0[0].tolist()\n",
    "clean_0_list= clean_0[0].tolist()"
   ]
  },
  {
   "cell_type": "code",
   "execution_count": 158,
   "id": "b0866e0c",
   "metadata": {},
   "outputs": [],
   "source": [
    "\n",
    "# Convert the list to a numpy array\n",
    "signal_noise = np.array(noise_0_list)\n",
    "signal_clean=np.array(clean_0_list)\n",
    "\n",
    "# Define the output .wav file\n",
    "output_file1 = \"output_noise.wav\"\n",
    "output_file2 = \"output_clean.wav\"\n"
   ]
  },
  {
   "cell_type": "code",
   "execution_count": 159,
   "id": "eef15108",
   "metadata": {},
   "outputs": [],
   "source": [
    "# Scale the values to the appropriate range for 16-bit PCM audio\n",
    "scaled_signal_noise = (signal_noise ).astype(np.int16)\n",
    "\n",
    "# Write the .wav file\n",
    "write(output_file1, 11025, scaled_signal_noise)\n"
   ]
  },
  {
   "cell_type": "code",
   "execution_count": 160,
   "id": "f6e68b5a",
   "metadata": {},
   "outputs": [],
   "source": [
    "# Scale the values to the appropriate range for 16-bit PCM audio\n",
    "scaled_signal_clean = (signal_clean ).astype(np.int16)\n",
    "\n",
    "# Write the .wav file\n",
    "write(output_file2, 11025, scaled_signal_clean)\n"
   ]
  },
  {
   "cell_type": "code",
   "execution_count": 161,
   "id": "80c9e395",
   "metadata": {},
   "outputs": [],
   "source": [
    "#########################################################\n",
    "\n",
    "import pandas as pd\n",
    "import numpy as np\n",
    "from scipy.io.wavfile import write\n",
    "import soundfile as sf\n",
    "\n",
    "def remove_echo(noise_signal, clean_signal):\n",
    "    # Adjust the length of the signals\n",
    "    min_length = min(len(noise_signal), len(clean_signal))\n",
    "    noise_signal = noise_signal[:min_length]\n",
    "    clean_signal = clean_signal[:min_length]\n",
    "\n",
    "    # Choose an appropriate delay based on the room acoustics (you may need to adjust this)\n",
    "    delay_samples = 0\n",
    "\n",
    "    # Apply a simple delay-and-subtract algorithm for echo cancellation\n",
    "    output_signal = clean_signal - np.roll(noise_signal, delay_samples)\n",
    "\n",
    "    return output_signal\n",
    "\n",
    "excel_file_path1 = \"D:/Sho4l/IOT/echo-ha/noise_100.xlsx\"\n",
    "noise_0 = pd.read_excel(excel_file_path1)\n",
    "\n",
    "excel_file_path2 = \"D:/Sho4l/IOT/echo-ha/clean_100.xlsx\"\n",
    "clean_0 = pd.read_excel(excel_file_path2)\n",
    "\n",
    "noise_0_list = noise_0[0].tolist()\n",
    "clean_0_list = clean_0[0].tolist()\n",
    "\n",
    "# Convert the list to a numpy array\n",
    "signal_noise = np.array(noise_0_list)\n",
    "signal_clean = np.array(clean_0_list)\n",
    "\n",
    "# Remove echo from the audio\n",
    "output_signal = remove_echo(signal_noise, signal_clean)\n",
    "\n",
    "# Define the output .wav file\n",
    "output_file = \"output_clean_without_echo.wav\"\n",
    "\n",
    "# Write the .wav file using soundfile library\n",
    "sf.write(output_file, output_signal, 11025, 'PCM_16')\n",
    "\n",
    "# If you don't have the soundfile library, you can use scipy.io.wavfile.write as before\n",
    "write(output_file, 11025, (output_signal).astype(np.int16))\n"
   ]
  }
 ],
 "metadata": {
  "kernelspec": {
   "display_name": "Python 3 (ipykernel)",
   "language": "python",
   "name": "python3"
  },
  "language_info": {
   "codemirror_mode": {
    "name": "ipython",
    "version": 3
   },
   "file_extension": ".py",
   "mimetype": "text/x-python",
   "name": "python",
   "nbconvert_exporter": "python",
   "pygments_lexer": "ipython3",
   "version": "3.9.12"
  }
 },
 "nbformat": 4,
 "nbformat_minor": 5
}
