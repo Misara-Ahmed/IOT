{
 "cells": [
  {
   "cell_type": "code",
   "execution_count": 207,
   "id": "a1c43568",
   "metadata": {},
   "outputs": [],
   "source": [
    "import pandas as pd\n",
    "import numpy as np\n",
    "import soundfile as sf\n",
    "import random\n",
    "excel_file_path = \"C:/Users/Misara/OneDrive/Desktop/echo-ha/noise_100.xlsx\"\n",
    "\n",
    "# # Read the Excel file into a pandas DataFrame\n",
    "df_ = pd.read_excel(excel_file_path)\n",
    "\n",
    "# excel_file_path2 = \"C:/Users/DELL/Downloads/echo-ha-20231219T121325Z-001/echo-ha/clean_1.xlsx\"\n",
    "\n",
    "# # Read the Excel file into a pandas DataFrame\n",
    "# df2 = pd.read_excel(excel_file_path)"
   ]
  },
  {
   "cell_type": "code",
   "execution_count": 186,
   "id": "33da1472",
   "metadata": {},
   "outputs": [
    {
     "data": {
      "text/html": [
       "<div>\n",
       "<style scoped>\n",
       "    .dataframe tbody tr th:only-of-type {\n",
       "        vertical-align: middle;\n",
       "    }\n",
       "\n",
       "    .dataframe tbody tr th {\n",
       "        vertical-align: top;\n",
       "    }\n",
       "\n",
       "    .dataframe thead th {\n",
       "        text-align: right;\n",
       "    }\n",
       "</style>\n",
       "<table border=\"1\" class=\"dataframe\">\n",
       "  <thead>\n",
       "    <tr style=\"text-align: right;\">\n",
       "      <th></th>\n",
       "      <th>0</th>\n",
       "    </tr>\n",
       "  </thead>\n",
       "  <tbody>\n",
       "    <tr>\n",
       "      <th>0</th>\n",
       "      <td>-0.139</td>\n",
       "    </tr>\n",
       "    <tr>\n",
       "      <th>1</th>\n",
       "      <td>-0.046</td>\n",
       "    </tr>\n",
       "    <tr>\n",
       "      <th>2</th>\n",
       "      <td>0.016</td>\n",
       "    </tr>\n",
       "    <tr>\n",
       "      <th>3</th>\n",
       "      <td>-0.009</td>\n",
       "    </tr>\n",
       "    <tr>\n",
       "      <th>4</th>\n",
       "      <td>0.030</td>\n",
       "    </tr>\n",
       "    <tr>\n",
       "      <th>...</th>\n",
       "      <td>...</td>\n",
       "    </tr>\n",
       "    <tr>\n",
       "      <th>22045</th>\n",
       "      <td>3.666</td>\n",
       "    </tr>\n",
       "    <tr>\n",
       "      <th>22046</th>\n",
       "      <td>1.192</td>\n",
       "    </tr>\n",
       "    <tr>\n",
       "      <th>22047</th>\n",
       "      <td>-0.863</td>\n",
       "    </tr>\n",
       "    <tr>\n",
       "      <th>22048</th>\n",
       "      <td>-2.635</td>\n",
       "    </tr>\n",
       "    <tr>\n",
       "      <th>22049</th>\n",
       "      <td>-4.053</td>\n",
       "    </tr>\n",
       "  </tbody>\n",
       "</table>\n",
       "<p>22050 rows × 1 columns</p>\n",
       "</div>"
      ],
      "text/plain": [
       "           0\n",
       "0     -0.139\n",
       "1     -0.046\n",
       "2      0.016\n",
       "3     -0.009\n",
       "4      0.030\n",
       "...      ...\n",
       "22045  3.666\n",
       "22046  1.192\n",
       "22047 -0.863\n",
       "22048 -2.635\n",
       "22049 -4.053\n",
       "\n",
       "[22050 rows x 1 columns]"
      ]
     },
     "execution_count": 186,
     "metadata": {},
     "output_type": "execute_result"
    }
   ],
   "source": [
    "df = df/1000\n",
    "df"
   ]
  },
  {
   "cell_type": "code",
   "execution_count": 187,
   "id": "a8f29282",
   "metadata": {},
   "outputs": [],
   "source": [
    "df = df.values\n",
    "df = df.flatten()\n",
    "df = df.T"
   ]
  },
  {
   "cell_type": "code",
   "execution_count": 188,
   "id": "ac2aa3a1",
   "metadata": {},
   "outputs": [],
   "source": [
    "x = df[3307:4851]\n",
    "#df[4851]"
   ]
  },
  {
   "cell_type": "code",
   "execution_count": 189,
   "id": "d16b7feb",
   "metadata": {},
   "outputs": [
    {
     "data": {
      "text/plain": [
       "array([2.000e-03, 2.000e-03, 9.000e-03, ..., 2.389e+00, 2.872e+00,\n",
       "       3.263e+00])"
      ]
     },
     "execution_count": 189,
     "metadata": {},
     "output_type": "execute_result"
    }
   ],
   "source": [
    "# x = np.array(x)\n",
    "x"
   ]
  },
  {
   "cell_type": "code",
   "execution_count": 190,
   "id": "b552f424",
   "metadata": {},
   "outputs": [],
   "source": [
    "w_old = []\n",
    "for i in range(1544):\n",
    "    w_old.append(random.uniform(0,0.001))"
   ]
  },
  {
   "cell_type": "code",
   "execution_count": 191,
   "id": "55c9b63f",
   "metadata": {},
   "outputs": [],
   "source": [
    "w_old = np.array(w_old)"
   ]
  },
  {
   "cell_type": "code",
   "execution_count": 192,
   "id": "aaa1b3fe",
   "metadata": {},
   "outputs": [
    {
     "data": {
      "text/plain": [
       "(1544,)"
      ]
     },
     "execution_count": 192,
     "metadata": {},
     "output_type": "execute_result"
    }
   ],
   "source": [
    "w_old_T = w_old.T\n",
    "w_old_T.shape"
   ]
  },
  {
   "cell_type": "code",
   "execution_count": 193,
   "id": "da96a012",
   "metadata": {},
   "outputs": [
    {
     "data": {
      "text/plain": [
       "array([8.13442712e-04, 9.40665101e-04, 3.19071065e-04, ...,\n",
       "       8.05345228e-04, 7.59549497e-04, 1.63879097e-05])"
      ]
     },
     "execution_count": 193,
     "metadata": {},
     "output_type": "execute_result"
    }
   ],
   "source": [
    "w_old_T"
   ]
  },
  {
   "cell_type": "code",
   "execution_count": 194,
   "id": "661acf9e",
   "metadata": {},
   "outputs": [],
   "source": [
    "x_new = []\n",
    "x_new = np.multiply(x,w_old_T)\n",
    "summation = np.dot(x,w_old_T)"
   ]
  },
  {
   "cell_type": "code",
   "execution_count": 195,
   "id": "b4fbe022",
   "metadata": {},
   "outputs": [],
   "source": [
    "df[4851] = df[4851]-summation"
   ]
  },
  {
   "cell_type": "code",
   "execution_count": 196,
   "id": "12e39a61",
   "metadata": {},
   "outputs": [],
   "source": [
    "miu = 0.001\n",
    "w_old_T = w_old_T + (miu*est*window)"
   ]
  },
  {
   "cell_type": "code",
   "execution_count": 197,
   "id": "561451cf",
   "metadata": {},
   "outputs": [],
   "source": [
    "window_size = 1544\n",
    "miu = 0.001\n",
    "for i in range(3307, len(df)-window_size+1):\n",
    "    window = df[i:i+window_size]\n",
    "    est = np.dot(window,w_old_T)\n",
    "    if(i+window_size == (len(df)-1) ):\n",
    "        break\n",
    "    df[i+window_size] = df[i+window_size] - est\n",
    "    w_old_T = w_old_T + (miu * est * window)\n",
    "\n",
    "    #print(window)"
   ]
  },
  {
   "cell_type": "code",
   "execution_count": 204,
   "id": "e71a2302",
   "metadata": {},
   "outputs": [],
   "source": [
    "df = df*1000"
   ]
  },
  {
   "cell_type": "code",
   "execution_count": 205,
   "id": "d264731c",
   "metadata": {},
   "outputs": [
    {
     "name": "stderr",
     "output_type": "stream",
     "text": [
      "C:\\Users\\Misara\\AppData\\Local\\Temp\\ipykernel_10576\\277195311.py:1: RuntimeWarning: invalid value encountered in cast\n",
      "  signal = (df).astype(np.int16)\n"
     ]
    }
   ],
   "source": [
    "signal = (df).astype(np.int16)"
   ]
  },
  {
   "cell_type": "code",
   "execution_count": 206,
   "id": "31a29665",
   "metadata": {},
   "outputs": [],
   "source": [
    "from scipy.io.wavfile import write\n",
    "write(\"C:/Users/Misara/OneDrive/Desktop/dr_try.wav\", 11025, signal)"
   ]
  },
  {
   "cell_type": "code",
   "execution_count": 208,
   "id": "1851dbd3",
   "metadata": {},
   "outputs": [
    {
     "data": {
      "image/png": "[encoded data removed]",
      "text/plain": [
       "<Figure size 1000x400 with 2 Axes>"
      ]
     },
     "metadata": {},
     "output_type": "display_data"
    }
   ],
   "source": [
    "import matplotlib.pyplot as plt\n",
    "# Create a figure with two subplots side by side\n",
    "fig, axs = plt.subplots(1, 2, figsize=(10, 4))\n",
    "\n",
    "# Plot the first set of values in the first subplot\n",
    "axs[0].plot(signal)\n",
    "axs[0].set_title('Plot 1')\n",
    "\n",
    "# Plot the second set of values in the second subplot\n",
    "axs[1].plot(df_)\n",
    "axs[1].set_title('Plot 2')\n",
    "\n",
    "\n",
    "# Adjust layout for better spacing\n",
    "plt.tight_layout()\n",
    "\n",
    "# Show the plots\n",
    "plt.show()"
   ]
  },
  {
   "cell_type": "code",
   "execution_count": null,
   "id": "ade260e8",
   "metadata": {},
   "outputs": [
    {
     "data": {
      "text/plain": [
       "array([8.72602780e-07, 8.33256101e-07, 8.41617059e-06, ...,\n",
       "       1.47836483e-03, 1.89647430e-03, 1.59343672e-03])"
      ]
     },
     "execution_count": 153,
     "metadata": {},
     "output_type": "execute_result"
    }
   ],
   "source": [
    "x_new"
   ]
  },
  {
   "cell_type": "code",
   "execution_count": null,
   "id": "9d55e8b8",
   "metadata": {},
   "outputs": [],
   "source": [
    "miu = 0.001"
   ]
  },
  {
   "cell_type": "code",
   "execution_count": null,
   "id": "b43ebe20",
   "metadata": {},
   "outputs": [
    {
     "ename": "ValueError",
     "evalue": "operands could not be broadcast together with shapes (22050,) (1544,) ",
     "output_type": "error",
     "traceback": [
      "\u001b[1;31m---------------------------------------------------------------------------\u001b[0m",
      "\u001b[1;31mValueError\u001b[0m                                Traceback (most recent call last)",
      "Cell \u001b[1;32mIn[172], line 1\u001b[0m\n\u001b[1;32m----> 1\u001b[0m m \u001b[38;5;241m=\u001b[39m miu\u001b[38;5;241m*\u001b[39m(\u001b[43mnp\u001b[49m\u001b[38;5;241;43m.\u001b[39;49m\u001b[43mmultiply\u001b[49m\u001b[43m(\u001b[49m\u001b[43mestimate\u001b[49m\u001b[43m,\u001b[49m\u001b[43mx\u001b[49m\u001b[43m)\u001b[49m)\n",
      "\u001b[1;31mValueError\u001b[0m: operands could not be broadcast together with shapes (22050,) (1544,) "
     ]
    }
   ],
   "source": [
    "m = miu*(np.multiply(estimate,x))"
   ]
  },
  {
   "cell_type": "code",
   "execution_count": null,
   "id": "e4635ab2",
   "metadata": {},
   "outputs": [],
   "source": [
    "def sliding_window(array,window_size):\n",
    "    result = []\n",
    "    for i in range(len(array)-window_size+1):\n",
    "        window = array[i:i+window_size]\n",
    "        #result.append(window)\n",
    "    return result"
   ]
  },
  {
   "cell_type": "code",
   "execution_count": null,
   "id": "7a35d728",
   "metadata": {},
   "outputs": [
    {
     "ename": "TypeError",
     "evalue": "can't multiply sequence by non-int of type 'float'",
     "output_type": "error",
     "traceback": [
      "\u001b[1;31m---------------------------------------------------------------------------\u001b[0m",
      "\u001b[1;31mTypeError\u001b[0m                                 Traceback (most recent call last)",
      "Cell \u001b[1;32mIn[170], line 1\u001b[0m\n\u001b[1;32m----> 1\u001b[0m w_new \u001b[38;5;241m=\u001b[39m w_old_T \u001b[38;5;241m+\u001b[39m (\u001b[43mmiu\u001b[49m\u001b[38;5;241;43m*\u001b[39;49m\u001b[43mestimate\u001b[49m\u001b[38;5;241m*\u001b[39mx)\n\u001b[0;32m      2\u001b[0m w_new\n",
      "\u001b[1;31mTypeError\u001b[0m: can't multiply sequence by non-int of type 'float'"
     ]
    }
   ],
   "source": [
    "w_new = w_old_T + (miu*estimate*x)\n",
    "w_new"
   ]
  },
  {
   "cell_type": "code",
   "execution_count": null,
   "id": "06f89d01",
   "metadata": {},
   "outputs": [],
   "source": [
    "w_old = []\n",
    "w_new = []"
   ]
  },
  {
   "cell_type": "code",
   "execution_count": null,
   "id": "503a1708",
   "metadata": {},
   "outputs": [],
   "source": [
    "noise_array = np.array(df)"
   ]
  },
  {
   "cell_type": "code",
   "execution_count": null,
   "id": "d4d6c95b",
   "metadata": {},
   "outputs": [
    {
     "data": {
      "text/plain": [
       "array([-0.139, -0.046,  0.016, ..., -0.863, -2.635, -4.053])"
      ]
     },
     "execution_count": 158,
     "metadata": {},
     "output_type": "execute_result"
    }
   ],
   "source": [
    "noise_array"
   ]
  },
  {
   "cell_type": "code",
   "execution_count": null,
   "id": "a619f28d",
   "metadata": {},
   "outputs": [],
   "source": [
    "circulate_positions=1000\n",
    "circulated_array = np.concatenate((noise_array[-circulate_positions:], noise_array[:-circulate_positions]))"
   ]
  },
  {
   "cell_type": "code",
   "execution_count": null,
   "id": "7288cac4",
   "metadata": {},
   "outputs": [
    {
     "name": "stdout",
     "output_type": "stream",
     "text": [
      "[0.032 0.452 0.068 ... 0.413 0.421 0.942]\n"
     ]
    }
   ],
   "source": [
    "print(circulated_array)"
   ]
  },
  {
   "cell_type": "code",
   "execution_count": null,
   "id": "6e2c19fb",
   "metadata": {},
   "outputs": [
    {
     "name": "stdout",
     "output_type": "stream",
     "text": [
      "(22050,)\n"
     ]
    }
   ],
   "source": [
    "print(circulated_array.shape)\n"
   ]
  },
  {
   "cell_type": "code",
   "execution_count": null,
   "id": "be4798c3",
   "metadata": {},
   "outputs": [
    {
     "name": "stdout",
     "output_type": "stream",
     "text": [
      "Original Array:\n",
      "[0.032 0.452 0.068 ... 0.413 0.421 0.942]\n",
      "\n",
      "Shifted Matrix:\n",
      "[[0 0 0 ... 3 5 6]\n",
      " [0 0 0 ... 1 3 5]\n",
      " [0 0 0 ... 0 1 3]\n",
      " ...\n",
      " [0 0 0 ... 7 8 8]\n",
      " [0 0 0 ... 6 7 8]\n",
      " [0 0 0 ... 5 6 7]]\n"
     ]
    }
   ],
   "source": [
    "\n",
    "# Number of positions to circulate\n",
    "circulate_positions = 1\n",
    "\n",
    "\n",
    "# Initialize an empty matrix to store shifted arrays\n",
    "shifted_matrix = np.zeros((len(circulated_array), 1000), dtype=int)\n",
    "\n",
    "# Perform shifting and store in the matrix\n",
    "for i in range(1000):\n",
    "    shifted_array = np.concatenate((circulated_array[-circulate_positions:], circulated_array[:-circulate_positions]))\n",
    "    shifted_matrix[:, i] = shifted_array.flatten() \n",
    "    circulate_positions+= 1\n",
    "\n",
    "# Print the original array\n",
    "print(\"Original Array:\")\n",
    "print(circulated_array)\n",
    "\n",
    "# Print the shifted matrix\n",
    "print(\"\\nShifted Matrix:\")\n",
    "print(shifted_matrix)\n"
   ]
  },
  {
   "cell_type": "code",
   "execution_count": null,
   "id": "0c4e4954",
   "metadata": {},
   "outputs": [
    {
     "name": "stdout",
     "output_type": "stream",
     "text": [
      "(22050,)\n"
     ]
    }
   ],
   "source": [
    "print(circulated_array.shape)"
   ]
  },
  {
   "cell_type": "code",
   "execution_count": null,
   "id": "72fd2d08",
   "metadata": {},
   "outputs": [
    {
     "ename": "ValueError",
     "evalue": "all the input arrays must have same number of dimensions, but the array at index 0 has 1 dimension(s) and the array at index 1 has 2 dimension(s)",
     "output_type": "error",
     "traceback": [
      "\u001b[1;31m---------------------------------------------------------------------------\u001b[0m",
      "\u001b[1;31mValueError\u001b[0m                                Traceback (most recent call last)",
      "Cell \u001b[1;32mIn[164], line 4\u001b[0m\n\u001b[0;32m      1\u001b[0m column_vector_to_insert \u001b[38;5;241m=\u001b[39m circulated_array  \u001b[38;5;66;03m# Replace with your actual column vector\u001b[39;00m\n\u001b[0;32m      3\u001b[0m \u001b[38;5;66;03m# Concatenate the column vector with the existing matrix\u001b[39;00m\n\u001b[1;32m----> 4\u001b[0m new_matrix \u001b[38;5;241m=\u001b[39m \u001b[43mnp\u001b[49m\u001b[38;5;241;43m.\u001b[39;49m\u001b[43mhstack\u001b[49m\u001b[43m(\u001b[49m\u001b[43m(\u001b[49m\u001b[43mcolumn_vector_to_insert\u001b[49m\u001b[43m,\u001b[49m\u001b[43m \u001b[49m\u001b[43mshifted_matrix\u001b[49m\u001b[43m)\u001b[49m\u001b[43m)\u001b[49m\n",
      "File \u001b[1;32md:\\Local_env\\Lib\\site-packages\\numpy\\core\\shape_base.py:357\u001b[0m, in \u001b[0;36mhstack\u001b[1;34m(tup, dtype, casting)\u001b[0m\n\u001b[0;32m    355\u001b[0m \u001b[38;5;66;03m# As a special case, dimension 0 of 1-dimensional arrays is \"horizontal\"\u001b[39;00m\n\u001b[0;32m    356\u001b[0m \u001b[38;5;28;01mif\u001b[39;00m arrs \u001b[38;5;129;01mand\u001b[39;00m arrs[\u001b[38;5;241m0\u001b[39m]\u001b[38;5;241m.\u001b[39mndim \u001b[38;5;241m==\u001b[39m \u001b[38;5;241m1\u001b[39m:\n\u001b[1;32m--> 357\u001b[0m     \u001b[38;5;28;01mreturn\u001b[39;00m \u001b[43m_nx\u001b[49m\u001b[38;5;241;43m.\u001b[39;49m\u001b[43mconcatenate\u001b[49m\u001b[43m(\u001b[49m\u001b[43marrs\u001b[49m\u001b[43m,\u001b[49m\u001b[43m \u001b[49m\u001b[38;5;241;43m0\u001b[39;49m\u001b[43m,\u001b[49m\u001b[43m \u001b[49m\u001b[43mdtype\u001b[49m\u001b[38;5;241;43m=\u001b[39;49m\u001b[43mdtype\u001b[49m\u001b[43m,\u001b[49m\u001b[43m \u001b[49m\u001b[43mcasting\u001b[49m\u001b[38;5;241;43m=\u001b[39;49m\u001b[43mcasting\u001b[49m\u001b[43m)\u001b[49m\n\u001b[0;32m    358\u001b[0m \u001b[38;5;28;01melse\u001b[39;00m:\n\u001b[0;32m    359\u001b[0m     \u001b[38;5;28;01mreturn\u001b[39;00m _nx\u001b[38;5;241m.\u001b[39mconcatenate(arrs, \u001b[38;5;241m1\u001b[39m, dtype\u001b[38;5;241m=\u001b[39mdtype, casting\u001b[38;5;241m=\u001b[39mcasting)\n",
      "\u001b[1;31mValueError\u001b[0m: all the input arrays must have same number of dimensions, but the array at index 0 has 1 dimension(s) and the array at index 1 has 2 dimension(s)"
     ]
    }
   ],
   "source": [
    "column_vector_to_insert = circulated_array  # Replace with your actual column vector\n",
    "\n",
    "# Concatenate the column vector with the existing matrix\n",
    "new_matrix = np.hstack((column_vector_to_insert, shifted_matrix))"
   ]
  },
  {
   "cell_type": "code",
   "execution_count": null,
   "id": "10f72978",
   "metadata": {},
   "outputs": [],
   "source": [
    "new_matrix=new_matrix.T"
   ]
  },
  {
   "cell_type": "code",
   "execution_count": null,
   "id": "54e18e0f",
   "metadata": {},
   "outputs": [
    {
     "data": {
      "text/plain": [
       "(1001, 22050)"
      ]
     },
     "execution_count": 203,
     "metadata": {},
     "output_type": "execute_result"
    }
   ],
   "source": [
    "new_matrix.shape"
   ]
  },
  {
   "cell_type": "code",
   "execution_count": null,
   "id": "751017d1",
   "metadata": {},
   "outputs": [],
   "source": [
    "alpha = []\n",
    "for y in range (22050):\n",
    "    alpha.append(random.uniform(0,0.001))"
   ]
  },
  {
   "cell_type": "code",
   "execution_count": null,
   "id": "4cb37cf3",
   "metadata": {},
   "outputs": [],
   "source": [
    "weights = alpha"
   ]
  },
  {
   "cell_type": "code",
   "execution_count": null,
   "id": "3ff3e0c6",
   "metadata": {},
   "outputs": [],
   "source": [
    "alpha = []\n",
    "for y in range (22050):\n",
    "    alpha.append(random.uniform(0,0.001))"
   ]
  },
  {
   "cell_type": "code",
   "execution_count": null,
   "id": "40dd0f49",
   "metadata": {},
   "outputs": [],
   "source": []
  },
  {
   "cell_type": "code",
   "execution_count": null,
   "id": "7db33bcb",
   "metadata": {},
   "outputs": [],
   "source": [
    "import random\n",
    "weights = alpha\n",
    "for i in range (1000):\n",
    "    alpha = []\n",
    "    for y in range (22050):\n",
    "        alpha.append(random.uniform(0,0.001))\n",
    "    weights = np.vstack((alpha, weights))\n",
    "    #np.concatenate(weights.append(alpha)"
   ]
  },
  {
   "cell_type": "code",
   "execution_count": null,
   "id": "d4678111",
   "metadata": {},
   "outputs": [
    {
     "data": {
      "text/plain": [
       "22050"
      ]
     },
     "execution_count": 208,
     "metadata": {},
     "output_type": "execute_result"
    }
   ],
   "source": [
    "len(weights[0])"
   ]
  },
  {
   "cell_type": "code",
   "execution_count": null,
   "id": "1e8938f3",
   "metadata": {},
   "outputs": [
    {
     "data": {
      "text/plain": [
       "22050"
      ]
     },
     "execution_count": 209,
     "metadata": {},
     "output_type": "execute_result"
    }
   ],
   "source": [
    "len(new_matrix[0])"
   ]
  },
  {
   "cell_type": "code",
   "execution_count": null,
   "id": "121d9d37",
   "metadata": {},
   "outputs": [],
   "source": [
    "weights_sum = []\n",
    "for i in range (1001):\n",
    "    x = np.multiply(new_matrix[i],weights[i])\n",
    "    weights_sum.append(x)"
   ]
  },
  {
   "cell_type": "code",
   "execution_count": null,
   "id": "06f6405a",
   "metadata": {},
   "outputs": [
    {
     "data": {
      "text/plain": [
       "array([-0.12341284,  0.22594351,  0.98523169, ..., -0.17232334,\n",
       "       -0.24012652, -0.07749157])"
      ]
     },
     "execution_count": 223,
     "metadata": {},
     "output_type": "execute_result"
    }
   ],
   "source": []
  },
  {
   "cell_type": "code",
   "execution_count": null,
   "id": "a4bc89d8",
   "metadata": {},
   "outputs": [],
   "source": []
  },
  {
   "cell_type": "code",
   "execution_count": null,
   "id": "4ea74ce9",
   "metadata": {},
   "outputs": [],
   "source": []
  },
  {
   "cell_type": "code",
   "execution_count": null,
   "id": "d5bce783",
   "metadata": {},
   "outputs": [],
   "source": []
  },
  {
   "cell_type": "code",
   "execution_count": null,
   "id": "83ccd3b4",
   "metadata": {},
   "outputs": [],
   "source": [
    "import soundfile as sf\n",
    "excel_file_path = \"C:/Users/DELL/Downloads/echo-ha-20231219T121325Z-001/echo-ha/noise_100.xlsx\"\n",
    "\n",
    "# Read the Excel file into a pandas DataFrame\n",
    "df_noise = pd.read_excel(excel_file_path)"
   ]
  },
  {
   "cell_type": "code",
   "execution_count": null,
   "id": "6a6fa6c0",
   "metadata": {},
   "outputs": [],
   "source": [
    "noise_100_list= df_noise[0].tolist()\n",
    "signal_noise = np.array(noise_100_list)\n",
    "scaled_signal_noise = (signal_noise).astype(np.int16)"
   ]
  },
  {
   "cell_type": "code",
   "execution_count": null,
   "id": "0cd4ffe3",
   "metadata": {},
   "outputs": [
    {
     "data": {
      "text/plain": [
       "array([ -139,   -46,    16, ...,  -863, -2635, -4053], dtype=int16)"
      ]
     },
     "execution_count": 214,
     "metadata": {},
     "output_type": "execute_result"
    }
   ],
   "source": [
    "scaled_signal_noise"
   ]
  },
  {
   "cell_type": "code",
   "execution_count": null,
   "id": "0aa4f13a",
   "metadata": {},
   "outputs": [],
   "source": [
    "from scipy.io.wavfile import write\n",
    "write(\"C:/Users/DELL/Downloads/try.wav\", 11025, scaled_signal_noise)"
   ]
  },
  {
   "cell_type": "code",
   "execution_count": null,
   "id": "a5e37d71",
   "metadata": {},
   "outputs": [],
   "source": []
  }
 ],
 "metadata": {
  "kernelspec": {
   "display_name": "Python 3 (ipykernel)",
   "language": "python",
   "name": "python3"
  },
  "language_info": {
   "codemirror_mode": {
    "name": "ipython",
    "version": 3
   },
   "file_extension": ".py",
   "mimetype": "text/x-python",
   "name": "python",
   "nbconvert_exporter": "python",
   "pygments_lexer": "ipython3",
   "version": "3.11.7"
  }
 },
 "nbformat": 4,
 "nbformat_minor": 5
}
