{
 "cells": [
  {
   "cell_type": "code",
   "execution_count": null,
   "metadata": {},
   "outputs": [],
   "source": [
    "import pandas as pd\n",
    "import numpy as np\n",
    "import soundfile as sf\n",
    "import random\n",
    "excel_file_path = \"C:/Users/Misara/OneDrive/Desktop/echo-ha/noise_100.xlsx\"\n",
    "\n",
    "# # Read the Excel file into a pandas DataFrame\n",
    "df_ = pd.read_excel(excel_file_path)"
   ]
  },
  {
   "cell_type": "code",
   "execution_count": null,
   "metadata": {},
   "outputs": [],
   "source": [
    "df = df/1000\n",
    "df"
   ]
  },
  {
   "cell_type": "code",
   "execution_count": null,
   "metadata": {},
   "outputs": [],
   "source": [
    "df = df.values\n",
    "df = df.flatten()\n",
    "df = df.T"
   ]
  },
  {
   "cell_type": "code",
   "execution_count": null,
   "metadata": {},
   "outputs": [],
   "source": [
    "# x = df[3307:4851]"
   ]
  },
  {
   "cell_type": "code",
   "execution_count": null,
   "metadata": {},
   "outputs": [],
   "source": [
    "w_old = []\n",
    "for i in range(1544):\n",
    "    w_old.append(random.uniform(0,0.001))"
   ]
  },
  {
   "cell_type": "code",
   "execution_count": null,
   "metadata": {},
   "outputs": [],
   "source": [
    "w_old = np.array(w_old)\n",
    "w_old_T = w_old.T\n",
    "w_old_T.shape"
   ]
  },
  {
   "cell_type": "code",
   "execution_count": null,
   "metadata": {},
   "outputs": [],
   "source": [
    "window_size = 1544\n",
    "miu = 0.001\n",
    "for i in range(3307, len(df)-window_size+1):\n",
    "    window = df[i:i+window_size]\n",
    "    est = np.dot(window,w_old_T)\n",
    "    if(i+window_size == (len(df)-1) ):\n",
    "        break\n",
    "    df[i+window_size] = df[i+window_size] - est\n",
    "    w_old_T = w_old_T + (miu * est * window)"
   ]
  },
  {
   "cell_type": "code",
   "execution_count": null,
   "metadata": {},
   "outputs": [],
   "source": [
    "df = df*1000"
   ]
  },
  {
   "cell_type": "markdown",
   "metadata": {},
   "source": [
    "## Saving as wav file"
   ]
  },
  {
   "cell_type": "code",
   "execution_count": null,
   "metadata": {},
   "outputs": [],
   "source": [
    "signal = (df).astype(np.int16)\n",
    "from scipy.io.wavfile import write\n",
    "write(\"C:/Users/Misara/OneDrive/Desktop/dr_try.wav\", 11025, signal)"
   ]
  },
  {
   "cell_type": "markdown",
   "metadata": {},
   "source": [
    "## Plotting"
   ]
  },
  {
   "cell_type": "code",
   "execution_count": null,
   "metadata": {},
   "outputs": [],
   "source": [
    "import matplotlib.pyplot as plt\n",
    "# Create a figure with two subplots side by side\n",
    "fig, axs = plt.subplots(1, 2, figsize=(10, 4))\n",
    "\n",
    "# Plot the first set of values in the first subplot\n",
    "axs[0].plot(signal)\n",
    "axs[0].set_title('Plot 1')\n",
    "\n",
    "# Plot the second set of values in the second subplot\n",
    "axs[1].plot(df_)\n",
    "axs[1].set_title('Plot 2')\n",
    "\n",
    "\n",
    "# Adjust layout for better spacing\n",
    "plt.tight_layout()\n",
    "\n",
    "# Show the plots\n",
    "plt.show()"
   ]
  }
 ],
 "metadata": {
  "language_info": {
   "name": "python"
  }
 },
 "nbformat": 4,
 "nbformat_minor": 2
}
